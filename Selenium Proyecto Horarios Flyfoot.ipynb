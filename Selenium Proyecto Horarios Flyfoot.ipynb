{
 "cells": [
  {
   "cell_type": "code",
   "execution_count": 2,
   "id": "cbb6b734",
   "metadata": {
    "collapsed": true
   },
   "outputs": [
    {
     "name": "stdout",
     "output_type": "stream",
     "text": [
      "Collecting selenium\n",
      "  Downloading selenium-4.1.0-py3-none-any.whl (958 kB)\n",
      "\u001b[K     |████████████████████████████████| 958 kB 2.7 MB/s eta 0:00:01\n",
      "\u001b[?25hCollecting trio-websocket~=0.9\n",
      "  Using cached trio_websocket-0.9.2-py3-none-any.whl (16 kB)\n",
      "Requirement already satisfied: urllib3[secure]~=1.26 in /home/luisserrano/anaconda3/lib/python3.8/site-packages (from selenium) (1.26.4)\n",
      "Collecting trio~=0.17\n",
      "  Using cached trio-0.19.0-py3-none-any.whl (356 kB)\n",
      "Requirement already satisfied: sortedcontainers in /home/luisserrano/anaconda3/lib/python3.8/site-packages (from trio~=0.17->selenium) (2.3.0)\n",
      "Requirement already satisfied: attrs>=19.2.0 in /home/luisserrano/anaconda3/lib/python3.8/site-packages (from trio~=0.17->selenium) (20.3.0)\n",
      "Collecting outcome\n",
      "  Using cached outcome-1.1.0-py2.py3-none-any.whl (9.7 kB)\n",
      "Requirement already satisfied: idna in /home/luisserrano/anaconda3/lib/python3.8/site-packages (from trio~=0.17->selenium) (2.10)\n",
      "Requirement already satisfied: sniffio in /home/luisserrano/anaconda3/lib/python3.8/site-packages (from trio~=0.17->selenium) (1.2.0)\n",
      "Requirement already satisfied: async-generator>=1.9 in /home/luisserrano/anaconda3/lib/python3.8/site-packages (from trio~=0.17->selenium) (1.10)\n",
      "Collecting wsproto>=0.14\n",
      "  Using cached wsproto-1.0.0-py3-none-any.whl (24 kB)\n",
      "Requirement already satisfied: cryptography>=1.3.4 in /home/luisserrano/anaconda3/lib/python3.8/site-packages (from urllib3[secure]~=1.26->selenium) (3.4.7)\n",
      "Requirement already satisfied: pyOpenSSL>=0.14 in /home/luisserrano/anaconda3/lib/python3.8/site-packages (from urllib3[secure]~=1.26->selenium) (20.0.1)\n",
      "Requirement already satisfied: certifi in /home/luisserrano/anaconda3/lib/python3.8/site-packages (from urllib3[secure]~=1.26->selenium) (2020.12.5)\n",
      "Requirement already satisfied: cffi>=1.12 in /home/luisserrano/anaconda3/lib/python3.8/site-packages (from cryptography>=1.3.4->urllib3[secure]~=1.26->selenium) (1.14.5)\n",
      "Requirement already satisfied: pycparser in /home/luisserrano/anaconda3/lib/python3.8/site-packages (from cffi>=1.12->cryptography>=1.3.4->urllib3[secure]~=1.26->selenium) (2.20)\n",
      "Requirement already satisfied: six>=1.5.2 in /home/luisserrano/anaconda3/lib/python3.8/site-packages (from pyOpenSSL>=0.14->urllib3[secure]~=1.26->selenium) (1.15.0)\n",
      "Collecting h11<1,>=0.9.0\n",
      "  Using cached h11-0.12.0-py3-none-any.whl (54 kB)\n",
      "Installing collected packages: outcome, h11, wsproto, trio, trio-websocket, selenium\n",
      "Successfully installed h11-0.12.0 outcome-1.1.0 selenium-4.1.0 trio-0.19.0 trio-websocket-0.9.2 wsproto-1.0.0\n"
     ]
    }
   ],
   "source": [
    "!pip install selenium"
   ]
  },
  {
   "cell_type": "code",
   "execution_count": 5,
   "id": "9280ae71",
   "metadata": {},
   "outputs": [
    {
     "name": "stdout",
     "output_type": "stream",
     "text": [
      "Collecting webdriver_manager\n",
      "  Using cached webdriver_manager-3.5.2-py2.py3-none-any.whl (17 kB)\n",
      "Collecting crayons\n",
      "  Using cached crayons-0.4.0-py2.py3-none-any.whl (4.6 kB)\n",
      "Requirement already satisfied: requests in /home/luisserrano/anaconda3/lib/python3.8/site-packages (from webdriver_manager) (2.25.1)\n",
      "Collecting configparser\n",
      "  Using cached configparser-5.1.0-py3-none-any.whl (19 kB)\n",
      "Requirement already satisfied: colorama in /home/luisserrano/anaconda3/lib/python3.8/site-packages (from crayons->webdriver_manager) (0.4.4)\n",
      "Requirement already satisfied: idna<3,>=2.5 in /home/luisserrano/anaconda3/lib/python3.8/site-packages (from requests->webdriver_manager) (2.10)\n",
      "Requirement already satisfied: certifi>=2017.4.17 in /home/luisserrano/anaconda3/lib/python3.8/site-packages (from requests->webdriver_manager) (2020.12.5)\n",
      "Requirement already satisfied: urllib3<1.27,>=1.21.1 in /home/luisserrano/anaconda3/lib/python3.8/site-packages (from requests->webdriver_manager) (1.26.4)\n",
      "Requirement already satisfied: chardet<5,>=3.0.2 in /home/luisserrano/anaconda3/lib/python3.8/site-packages (from requests->webdriver_manager) (4.0.0)\n",
      "Installing collected packages: crayons, configparser, webdriver-manager\n",
      "Successfully installed configparser-5.1.0 crayons-0.4.0 webdriver-manager-3.5.2\n"
     ]
    }
   ],
   "source": [
    "!pip install webdriver_manager"
   ]
  },
  {
   "cell_type": "code",
   "execution_count": 1,
   "id": "bb386f36",
   "metadata": {},
   "outputs": [],
   "source": [
    "from selenium import webdriver\n",
    "from selenium.webdriver.chrome.options import Options\n",
    "import time\n",
    "import pandas as pd\n",
    "from selenium.webdriver.support.ui import Select\n",
    "from webdriver_manager.chrome import ChromeDriverManager"
   ]
  },
  {
   "cell_type": "code",
   "execution_count": 2,
   "id": "86e681ed",
   "metadata": {},
   "outputs": [],
   "source": [
    "from selenium import webdriver\n",
    "from selenium.webdriver.chrome.options import Options\n",
    "import time\n",
    "import pandas as pd\n",
    "from selenium.webdriver.support.ui import Select\n",
    "from webdriver_manager.chrome import ChromeDriverManager\n",
    "from selenium.webdriver.chrome.service import Service\n",
    "from webdriver_manager.chrome import ChromeDriverManager\n",
    "from selenium.webdriver.common.by import By"
   ]
  },
  {
   "cell_type": "code",
   "execution_count": 3,
   "id": "4a8ab91a",
   "metadata": {},
   "outputs": [],
   "source": [
    "opciones=Options()\n",
    "opciones.add_experimental_option('excludeSwitches', ['enable-automation'])\n",
    "opciones.add_experimental_option('useAutomationExtension', False)\n",
    "opciones.headless=False    # si True, no aperece la ventana (headless=no visible)\n",
    "opciones.add_argument('--start-maximized')         # comienza maximizado\n",
    "#opciones.add_argument('user-data-dir=selenium')    # mantiene las cookies\n",
    "#opciones.add_extension('driver_folder/adblock.crx')       # adblocker\n",
    "opciones.add_argument('--incognito')              # incognito"
   ]
  },
  {
   "cell_type": "code",
   "execution_count": null,
   "id": "9543eeb2",
   "metadata": {},
   "outputs": [],
   "source": [
    "find_elements_by_class_name(\"table-row\")"
   ]
  },
  {
   "cell_type": "code",
   "execution_count": 4,
   "id": "3265e95a",
   "metadata": {},
   "outputs": [
    {
     "name": "stderr",
     "output_type": "stream",
     "text": [
      "<ipython-input-4-a3b2858e12f4>:6: DeprecationWarning: executable_path has been deprecated, please pass in a Service object\n",
      "  driver = webdriver.Chrome(driver, options = opciones)\n",
      "<ipython-input-4-a3b2858e12f4>:9: DeprecationWarning: find_element_by_* commands are deprecated. Please use find_element() instead\n",
      "  driver.find_element_by_css_selector(\"#qc-cmp2-ui > div.qc-cmp2-footer.qc-cmp2-footer-overlay.qc-cmp2-footer-scrolled > div > button.css-1t142sv\").click()\n",
      "<ipython-input-4-a3b2858e12f4>:10: DeprecationWarning: find_element_by_* commands are deprecated. Please use find_element() instead\n",
      "  driver.find_element_by_css_selector(\"#competition\").click()\n",
      "<ipython-input-4-a3b2858e12f4>:11: DeprecationWarning: find_element_by_* commands are deprecated. Please use find_element() instead\n",
      "  driver.find_element_by_css_selector(\"#competition > optgroup:nth-child(4) > option:nth-child(1)\").click()\n",
      "<ipython-input-4-a3b2858e12f4>:12: DeprecationWarning: find_element_by_* commands are deprecated. Please use find_element() instead\n",
      "  driver.find_element_by_css_selector(\"#group\").click()\n",
      "<ipython-input-4-a3b2858e12f4>:13: DeprecationWarning: find_element_by_* commands are deprecated. Please use find_element() instead\n",
      "  driver.find_element_by_css_selector(\"#group > option:nth-child(2)\").click()\n",
      "<ipython-input-4-a3b2858e12f4>:14: DeprecationWarning: find_element_by_* commands are deprecated. Please use find_element() instead\n",
      "  driver.find_element_by_css_selector(\"#search_btn_results\").click()\n",
      "<ipython-input-4-a3b2858e12f4>:15: DeprecationWarning: find_elements_by_* commands are deprecated. Please use find_elements() instead\n",
      "  driver.find_elements_by_xpath(\"#body > div.layout-content-1.layout-item-3-1.grid-limit > div.layout-body > div.widget-item > div.table.matches > div.table-rows > div:nth-child(1) > div:nth-child(4) > div > div:nth-child(3) > div.info-de-tabla-trigger\").click()\n"
     ]
    },
    {
     "ename": "InvalidSelectorException",
     "evalue": "Message: invalid selector: Unable to locate an element with the xpath expression #body > div.layout-content-1.layout-item-3-1.grid-limit > div.layout-body > div.widget-item > div.table.matches > div.table-rows > div:nth-child(1) > div:nth-child(4) > div > div:nth-child(3) > div.info-de-tabla-trigger because of the following error:\nSyntaxError: Failed to execute 'evaluate' on 'Document': The string '#body > div.layout-content-1.layout-item-3-1.grid-limit > div.layout-body > div.widget-item > div.table.matches > div.table-rows > div:nth-child(1) > div:nth-child(4) > div > div:nth-child(3) > div.info-de-tabla-trigger' is not a valid XPath expression.\n  (Session info: chrome=96.0.4664.45)\nStacktrace:\nBacktrace:\n\tOrdinal0 [0x00FC6903+2517251]\n\tOrdinal0 [0x00F5F8E1+2095329]\n\tOrdinal0 [0x00E62848+1058888]\n\tOrdinal0 [0x00E64F44+1068868]\n\tOrdinal0 [0x00E64E0E+1068558]\n\tOrdinal0 [0x00E65070+1069168]\n\tOrdinal0 [0x00E8D1C2+1233346]\n\tOrdinal0 [0x00E8D63B+1234491]\n\tOrdinal0 [0x00EB784C+1407052]\n\tOrdinal0 [0x00EA650A+1336586]\n\tOrdinal0 [0x00EB5BBF+1399743]\n\tOrdinal0 [0x00EA639B+1336219]\n\tOrdinal0 [0x00E827A7+1189799]\n\tOrdinal0 [0x00E83609+1193481]\n\tGetHandleVerifier [0x01155904+1577972]\n\tGetHandleVerifier [0x01200B97+2279047]\n\tGetHandleVerifier [0x01056D09+534521]\n\tGetHandleVerifier [0x01055DB9+530601]\n\tOrdinal0 [0x00F64FF9+2117625]\n\tOrdinal0 [0x00F698A8+2136232]\n\tOrdinal0 [0x00F699E2+2136546]\n\tOrdinal0 [0x00F73541+2176321]\n\tBaseThreadInitThunk [0x754DFA29+25]\n\tRtlGetAppContainerNamedObjectPath [0x77517A9E+286]\n\tRtlGetAppContainerNamedObjectPath [0x77517A6E+238]\n",
     "output_type": "error",
     "traceback": [
      "\u001b[0;31m---------------------------------------------------------------------------\u001b[0m",
      "\u001b[0;31mInvalidSelectorException\u001b[0m                  Traceback (most recent call last)",
      "\u001b[0;32m<ipython-input-4-a3b2858e12f4>\u001b[0m in \u001b[0;36m<module>\u001b[0;34m\u001b[0m\n\u001b[1;32m     13\u001b[0m \u001b[0mdriver\u001b[0m\u001b[0;34m.\u001b[0m\u001b[0mfind_element_by_css_selector\u001b[0m\u001b[0;34m(\u001b[0m\u001b[0;34m\"#group > option:nth-child(2)\"\u001b[0m\u001b[0;34m)\u001b[0m\u001b[0;34m.\u001b[0m\u001b[0mclick\u001b[0m\u001b[0;34m(\u001b[0m\u001b[0;34m)\u001b[0m\u001b[0;34m\u001b[0m\u001b[0;34m\u001b[0m\u001b[0m\n\u001b[1;32m     14\u001b[0m \u001b[0mdriver\u001b[0m\u001b[0;34m.\u001b[0m\u001b[0mfind_element_by_css_selector\u001b[0m\u001b[0;34m(\u001b[0m\u001b[0;34m\"#search_btn_results\"\u001b[0m\u001b[0;34m)\u001b[0m\u001b[0;34m.\u001b[0m\u001b[0mclick\u001b[0m\u001b[0;34m(\u001b[0m\u001b[0;34m)\u001b[0m\u001b[0;34m\u001b[0m\u001b[0;34m\u001b[0m\u001b[0m\n\u001b[0;32m---> 15\u001b[0;31m \u001b[0mdriver\u001b[0m\u001b[0;34m.\u001b[0m\u001b[0mfind_elements_by_xpath\u001b[0m\u001b[0;34m(\u001b[0m\u001b[0;34m\"#body > div.layout-content-1.layout-item-3-1.grid-limit > div.layout-body > div.widget-item > div.table.matches > div.table-rows > div:nth-child(1) > div:nth-child(4) > div > div:nth-child(3) > div.info-de-tabla-trigger\"\u001b[0m\u001b[0;34m)\u001b[0m\u001b[0;34m.\u001b[0m\u001b[0mclick\u001b[0m\u001b[0;34m(\u001b[0m\u001b[0;34m)\u001b[0m\u001b[0;34m\u001b[0m\u001b[0;34m\u001b[0m\u001b[0m\n\u001b[0m\u001b[1;32m     16\u001b[0m \u001b[0mdia\u001b[0m\u001b[0;34m.\u001b[0m\u001b[0mappend\u001b[0m\u001b[0;34m(\u001b[0m\u001b[0mdriver\u001b[0m\u001b[0;34m.\u001b[0m\u001b[0mfind_elements_by_xpath\u001b[0m\u001b[0;34m(\u001b[0m\u001b[0;34m\"/html/body/div[8]/div[1]/div[3]/div[2]/div[2]/div[1]/div[4]/div/div[1]/div[2]/div[1]\"\u001b[0m\u001b[0;34m)\u001b[0m\u001b[0;34m.\u001b[0m\u001b[0mtext\u001b[0m\u001b[0;34m)\u001b[0m\u001b[0;34m\u001b[0m\u001b[0;34m\u001b[0m\u001b[0m\n\u001b[1;32m     17\u001b[0m \u001b[0mhora\u001b[0m\u001b[0;34m.\u001b[0m\u001b[0mappend\u001b[0m\u001b[0;34m(\u001b[0m\u001b[0mdriver\u001b[0m\u001b[0;34m.\u001b[0m\u001b[0mfind_elements_by_xpath\u001b[0m\u001b[0;34m(\u001b[0m\u001b[0;34m\"/html/body/div[8]/div[1]/div[3]/div[2]/div[2]/div[1]/div[4]/div/div[1]/div[2]/div[2]\"\u001b[0m\u001b[0;34m)\u001b[0m\u001b[0;34m.\u001b[0m\u001b[0mtext\u001b[0m\u001b[0;34m)\u001b[0m\u001b[0;34m\u001b[0m\u001b[0;34m\u001b[0m\u001b[0m\n",
      "\u001b[0;32m~/anaconda3/lib/python3.8/site-packages/selenium/webdriver/remote/webdriver.py\u001b[0m in \u001b[0;36mfind_elements_by_xpath\u001b[0;34m(self, xpath)\u001b[0m\n\u001b[1;32m    541\u001b[0m             \u001b[0mstacklevel\u001b[0m\u001b[0;34m=\u001b[0m\u001b[0;36m2\u001b[0m\u001b[0;34m,\u001b[0m\u001b[0;34m\u001b[0m\u001b[0;34m\u001b[0m\u001b[0m\n\u001b[1;32m    542\u001b[0m         )\n\u001b[0;32m--> 543\u001b[0;31m         \u001b[0;32mreturn\u001b[0m \u001b[0mself\u001b[0m\u001b[0;34m.\u001b[0m\u001b[0mfind_elements\u001b[0m\u001b[0;34m(\u001b[0m\u001b[0mby\u001b[0m\u001b[0;34m=\u001b[0m\u001b[0mBy\u001b[0m\u001b[0;34m.\u001b[0m\u001b[0mXPATH\u001b[0m\u001b[0;34m,\u001b[0m \u001b[0mvalue\u001b[0m\u001b[0;34m=\u001b[0m\u001b[0mxpath\u001b[0m\u001b[0;34m)\u001b[0m\u001b[0;34m\u001b[0m\u001b[0;34m\u001b[0m\u001b[0m\n\u001b[0m\u001b[1;32m    544\u001b[0m \u001b[0;34m\u001b[0m\u001b[0m\n\u001b[1;32m    545\u001b[0m     \u001b[0;32mdef\u001b[0m \u001b[0mfind_element_by_link_text\u001b[0m\u001b[0;34m(\u001b[0m\u001b[0mself\u001b[0m\u001b[0;34m,\u001b[0m \u001b[0mlink_text\u001b[0m\u001b[0;34m)\u001b[0m \u001b[0;34m->\u001b[0m \u001b[0mWebElement\u001b[0m\u001b[0;34m:\u001b[0m\u001b[0;34m\u001b[0m\u001b[0;34m\u001b[0m\u001b[0m\n",
      "\u001b[0;32m~/anaconda3/lib/python3.8/site-packages/selenium/webdriver/remote/webdriver.py\u001b[0m in \u001b[0;36mfind_elements\u001b[0;34m(self, by, value)\u001b[0m\n\u001b[1;32m   1277\u001b[0m         \u001b[0;31m# Return empty list if driver returns null\u001b[0m\u001b[0;34m\u001b[0m\u001b[0;34m\u001b[0m\u001b[0;34m\u001b[0m\u001b[0m\n\u001b[1;32m   1278\u001b[0m         \u001b[0;31m# See https://github.com/SeleniumHQ/selenium/issues/4555\u001b[0m\u001b[0;34m\u001b[0m\u001b[0;34m\u001b[0m\u001b[0;34m\u001b[0m\u001b[0m\n\u001b[0;32m-> 1279\u001b[0;31m         return self.execute(Command.FIND_ELEMENTS, {\n\u001b[0m\u001b[1;32m   1280\u001b[0m             \u001b[0;34m'using'\u001b[0m\u001b[0;34m:\u001b[0m \u001b[0mby\u001b[0m\u001b[0;34m,\u001b[0m\u001b[0;34m\u001b[0m\u001b[0;34m\u001b[0m\u001b[0m\n\u001b[1;32m   1281\u001b[0m             'value': value})['value'] or []\n",
      "\u001b[0;32m~/anaconda3/lib/python3.8/site-packages/selenium/webdriver/remote/webdriver.py\u001b[0m in \u001b[0;36mexecute\u001b[0;34m(self, driver_command, params)\u001b[0m\n\u001b[1;32m    422\u001b[0m         \u001b[0mresponse\u001b[0m \u001b[0;34m=\u001b[0m \u001b[0mself\u001b[0m\u001b[0;34m.\u001b[0m\u001b[0mcommand_executor\u001b[0m\u001b[0;34m.\u001b[0m\u001b[0mexecute\u001b[0m\u001b[0;34m(\u001b[0m\u001b[0mdriver_command\u001b[0m\u001b[0;34m,\u001b[0m \u001b[0mparams\u001b[0m\u001b[0;34m)\u001b[0m\u001b[0;34m\u001b[0m\u001b[0;34m\u001b[0m\u001b[0m\n\u001b[1;32m    423\u001b[0m         \u001b[0;32mif\u001b[0m \u001b[0mresponse\u001b[0m\u001b[0;34m:\u001b[0m\u001b[0;34m\u001b[0m\u001b[0;34m\u001b[0m\u001b[0m\n\u001b[0;32m--> 424\u001b[0;31m             \u001b[0mself\u001b[0m\u001b[0;34m.\u001b[0m\u001b[0merror_handler\u001b[0m\u001b[0;34m.\u001b[0m\u001b[0mcheck_response\u001b[0m\u001b[0;34m(\u001b[0m\u001b[0mresponse\u001b[0m\u001b[0;34m)\u001b[0m\u001b[0;34m\u001b[0m\u001b[0;34m\u001b[0m\u001b[0m\n\u001b[0m\u001b[1;32m    425\u001b[0m             response['value'] = self._unwrap_value(\n\u001b[1;32m    426\u001b[0m                 response.get('value', None))\n",
      "\u001b[0;32m~/anaconda3/lib/python3.8/site-packages/selenium/webdriver/remote/errorhandler.py\u001b[0m in \u001b[0;36mcheck_response\u001b[0;34m(self, response)\u001b[0m\n\u001b[1;32m    245\u001b[0m                 \u001b[0malert_text\u001b[0m \u001b[0;34m=\u001b[0m \u001b[0mvalue\u001b[0m\u001b[0;34m[\u001b[0m\u001b[0;34m'alert'\u001b[0m\u001b[0;34m]\u001b[0m\u001b[0;34m.\u001b[0m\u001b[0mget\u001b[0m\u001b[0;34m(\u001b[0m\u001b[0;34m'text'\u001b[0m\u001b[0;34m)\u001b[0m\u001b[0;34m\u001b[0m\u001b[0;34m\u001b[0m\u001b[0m\n\u001b[1;32m    246\u001b[0m             \u001b[0;32mraise\u001b[0m \u001b[0mexception_class\u001b[0m\u001b[0;34m(\u001b[0m\u001b[0mmessage\u001b[0m\u001b[0;34m,\u001b[0m \u001b[0mscreen\u001b[0m\u001b[0;34m,\u001b[0m \u001b[0mstacktrace\u001b[0m\u001b[0;34m,\u001b[0m \u001b[0malert_text\u001b[0m\u001b[0;34m)\u001b[0m  \u001b[0;31m# type: ignore[call-arg]  # mypy is not smart enough here\u001b[0m\u001b[0;34m\u001b[0m\u001b[0;34m\u001b[0m\u001b[0m\n\u001b[0;32m--> 247\u001b[0;31m         \u001b[0;32mraise\u001b[0m \u001b[0mexception_class\u001b[0m\u001b[0;34m(\u001b[0m\u001b[0mmessage\u001b[0m\u001b[0;34m,\u001b[0m \u001b[0mscreen\u001b[0m\u001b[0;34m,\u001b[0m \u001b[0mstacktrace\u001b[0m\u001b[0;34m)\u001b[0m\u001b[0;34m\u001b[0m\u001b[0;34m\u001b[0m\u001b[0m\n\u001b[0m\u001b[1;32m    248\u001b[0m \u001b[0;34m\u001b[0m\u001b[0m\n\u001b[1;32m    249\u001b[0m     \u001b[0;32mdef\u001b[0m \u001b[0m_value_or_default\u001b[0m\u001b[0;34m(\u001b[0m\u001b[0mself\u001b[0m\u001b[0;34m,\u001b[0m \u001b[0mobj\u001b[0m\u001b[0;34m:\u001b[0m \u001b[0mMapping\u001b[0m\u001b[0;34m[\u001b[0m\u001b[0m_KT\u001b[0m\u001b[0;34m,\u001b[0m \u001b[0m_VT\u001b[0m\u001b[0;34m]\u001b[0m\u001b[0;34m,\u001b[0m \u001b[0mkey\u001b[0m\u001b[0;34m:\u001b[0m \u001b[0m_KT\u001b[0m\u001b[0;34m,\u001b[0m \u001b[0mdefault\u001b[0m\u001b[0;34m:\u001b[0m \u001b[0m_VT\u001b[0m\u001b[0;34m)\u001b[0m \u001b[0;34m->\u001b[0m \u001b[0m_VT\u001b[0m\u001b[0;34m:\u001b[0m\u001b[0;34m\u001b[0m\u001b[0;34m\u001b[0m\u001b[0m\n",
      "\u001b[0;31mInvalidSelectorException\u001b[0m: Message: invalid selector: Unable to locate an element with the xpath expression #body > div.layout-content-1.layout-item-3-1.grid-limit > div.layout-body > div.widget-item > div.table.matches > div.table-rows > div:nth-child(1) > div:nth-child(4) > div > div:nth-child(3) > div.info-de-tabla-trigger because of the following error:\nSyntaxError: Failed to execute 'evaluate' on 'Document': The string '#body > div.layout-content-1.layout-item-3-1.grid-limit > div.layout-body > div.widget-item > div.table.matches > div.table-rows > div:nth-child(1) > div:nth-child(4) > div > div:nth-child(3) > div.info-de-tabla-trigger' is not a valid XPath expression.\n  (Session info: chrome=96.0.4664.45)\nStacktrace:\nBacktrace:\n\tOrdinal0 [0x00FC6903+2517251]\n\tOrdinal0 [0x00F5F8E1+2095329]\n\tOrdinal0 [0x00E62848+1058888]\n\tOrdinal0 [0x00E64F44+1068868]\n\tOrdinal0 [0x00E64E0E+1068558]\n\tOrdinal0 [0x00E65070+1069168]\n\tOrdinal0 [0x00E8D1C2+1233346]\n\tOrdinal0 [0x00E8D63B+1234491]\n\tOrdinal0 [0x00EB784C+1407052]\n\tOrdinal0 [0x00EA650A+1336586]\n\tOrdinal0 [0x00EB5BBF+1399743]\n\tOrdinal0 [0x00EA639B+1336219]\n\tOrdinal0 [0x00E827A7+1189799]\n\tOrdinal0 [0x00E83609+1193481]\n\tGetHandleVerifier [0x01155904+1577972]\n\tGetHandleVerifier [0x01200B97+2279047]\n\tGetHandleVerifier [0x01056D09+534521]\n\tGetHandleVerifier [0x01055DB9+530601]\n\tOrdinal0 [0x00F64FF9+2117625]\n\tOrdinal0 [0x00F698A8+2136232]\n\tOrdinal0 [0x00F699E2+2136546]\n\tOrdinal0 [0x00F73541+2176321]\n\tBaseThreadInitThunk [0x754DFA29+25]\n\tRtlGetAppContainerNamedObjectPath [0x77517A9E+286]\n\tRtlGetAppContainerNamedObjectPath [0x77517A6E+238]\n"
     ]
    }
   ],
   "source": [
    "dia = []\n",
    "hora = []\n",
    "lugar = []\n",
    "\n",
    "driver = \"./chromedriver.exe\"\n",
    "driver = webdriver.Chrome(driver, options = opciones)\n",
    "driver.get(\"https://www.rffm.es/competiciones/resultados\")\n",
    "#driver.implicitly_wait(3) # is like a time.sleep but specific of selenium\n",
    "driver.find_element_by_css_selector(\"#qc-cmp2-ui > div.qc-cmp2-footer.qc-cmp2-footer-overlay.qc-cmp2-footer-scrolled > div > button.css-1t142sv\").click()\n",
    "driver.find_element_by_css_selector(\"#competition\").click()\n",
    "driver.find_element_by_css_selector(\"#competition > optgroup:nth-child(4) > option:nth-child(1)\").click()\n",
    "driver.find_element_by_css_selector(\"#group\").click()\n",
    "driver.find_element_by_css_selector(\"#group > option:nth-child(2)\").click()\n",
    "driver.find_element_by_css_selector(\"#search_btn_results\").click()\n",
    "driver.find_elements_by_xpath(\"#body > div.layout-content-1.layout-item-3-1.grid-limit > div.layout-body > div.widget-item > div.table.matches > div.table-rows > div:nth-child(1) > div:nth-child(4) > div > div:nth-child(3) > div.info-de-tabla-trigger\").click()\n",
    "dia.append(driver.find_elements_by_xpath(\"/html/body/div[8]/div[1]/div[3]/div[2]/div[2]/div[1]/div[4]/div/div[1]/div[2]/div[1]\").text)\n",
    "hora.append(driver.find_elements_by_xpath(\"/html/body/div[8]/div[1]/div[3]/div[2]/div[2]/div[1]/div[4]/div/div[1]/div[2]/div[2]\").text)\n",
    "lugar.append(driver.find_elements_by_xpath(\"/html/body/div[8]/div[1]/div[3]/div[2]/div[2]/div[1]/div[4]/div/div[1]/div[2]/div[3]\").text)\n",
    "    #driver.find_element_by_css_selector(\"#body > div.layout-content-1.layout-item-3-1.grid-limit > div.layout-body > div.widget-item > div.table.matches > div.table-rows > div:nth-child(1) > div:nth-child(4) > div > div:nth-child(3)\")  "
   ]
  },
  {
   "cell_type": "code",
   "execution_count": null,
   "id": "5aed2017",
   "metadata": {},
   "outputs": [],
   "source": [
    "dia"
   ]
  },
  {
   "cell_type": "markdown",
   "id": "eae1cf54",
   "metadata": {},
   "source": [
    "# FUNCIONA INDIVIDUALMENTE"
   ]
  },
  {
   "cell_type": "code",
   "execution_count": 8,
   "id": "9d97359c",
   "metadata": {},
   "outputs": [
    {
     "name": "stderr",
     "output_type": "stream",
     "text": [
      "<ipython-input-8-27429824cb27>:2: DeprecationWarning: executable_path has been deprecated, please pass in a Service object\n",
      "  driver = webdriver.Chrome(driver, options = opciones)\n",
      "<ipython-input-8-27429824cb27>:5: DeprecationWarning: find_element_by_* commands are deprecated. Please use find_element() instead\n",
      "  driver.find_element_by_css_selector(\"#qc-cmp2-ui > div.qc-cmp2-footer.qc-cmp2-footer-overlay.qc-cmp2-footer-scrolled > div > button.css-1t142sv\").click()\n",
      "<ipython-input-8-27429824cb27>:6: DeprecationWarning: find_element_by_* commands are deprecated. Please use find_element() instead\n",
      "  driver.find_element_by_css_selector(\"#competition\").click()\n",
      "<ipython-input-8-27429824cb27>:7: DeprecationWarning: find_element_by_* commands are deprecated. Please use find_element() instead\n",
      "  driver.find_element_by_css_selector(\"#competition > optgroup:nth-child(4) > option:nth-child(1)\").click()\n",
      "<ipython-input-8-27429824cb27>:8: DeprecationWarning: find_element_by_* commands are deprecated. Please use find_element() instead\n",
      "  driver.find_element_by_css_selector(\"#group\").click()\n",
      "<ipython-input-8-27429824cb27>:9: DeprecationWarning: find_element_by_* commands are deprecated. Please use find_element() instead\n",
      "  driver.find_element_by_css_selector(\"#group > option:nth-child(2)\").click()\n",
      "<ipython-input-8-27429824cb27>:10: DeprecationWarning: find_element_by_* commands are deprecated. Please use find_element() instead\n",
      "  driver.find_element_by_css_selector(\"#search_btn_results\").click()\n",
      "<ipython-input-8-27429824cb27>:11: DeprecationWarning: find_element_by_* commands are deprecated. Please use find_element() instead\n",
      "  driver.find_element_by_css_selector(\"body > div.layout-content-1.layout-item-3-1.grid-limit > div.layout-body > div.widget-item > div.table.matches > div.table-rows > div:nth-child(1) > div:nth-child(4) > div > div:nth-child(3)\").click()\n",
      "<ipython-input-8-27429824cb27>:12: DeprecationWarning: find_elements_by_* commands are deprecated. Please use find_elements() instead\n",
      "  dia = driver.find_elements_by_xpath(\"/html/body/div[8]/div[1]/div[3]/div[2]/div[2]/div[1]/div[4]/div/div[1]/div[2]/div[1]\")[0].text\n",
      "<ipython-input-8-27429824cb27>:14: DeprecationWarning: find_elements_by_* commands are deprecated. Please use find_elements() instead\n",
      "  hora = driver.find_elements_by_xpath(\"/html/body/div[8]/div[1]/div[3]/div[2]/div[2]/div[1]/div[4]/div/div[1]/div[2]/div[2]\")[0].text\n",
      "<ipython-input-8-27429824cb27>:16: DeprecationWarning: find_elements_by_* commands are deprecated. Please use find_elements() instead\n",
      "  lugar = driver.find_elements_by_xpath(\"/html/body/div[8]/div[1]/div[3]/div[2]/div[2]/div[1]/div[4]/div/div[1]/div[2]/div[3]\")[0].text\n"
     ]
    }
   ],
   "source": [
    "driver = \"./chromedriver.exe\"\n",
    "driver = webdriver.Chrome(driver, options = opciones)\n",
    "driver.get(\"https://www.rffm.es/competiciones/resultados\")\n",
    "#driver.implicitly_wait(3) # is like a time.sleep but specific of selenium\n",
    "driver.find_element_by_css_selector(\"#qc-cmp2-ui > div.qc-cmp2-footer.qc-cmp2-footer-overlay.qc-cmp2-footer-scrolled > div > button.css-1t142sv\").click()\n",
    "driver.find_element_by_css_selector(\"#competition\").click()\n",
    "driver.find_element_by_css_selector(\"#competition > optgroup:nth-child(4) > option:nth-child(1)\").click()\n",
    "driver.find_element_by_css_selector(\"#group\").click()\n",
    "driver.find_element_by_css_selector(\"#group > option:nth-child(2)\").click()\n",
    "driver.find_element_by_css_selector(\"#search_btn_results\").click()\n",
    "driver.find_element_by_css_selector(\"body > div.layout-content-1.layout-item-3-1.grid-limit > div.layout-body > div.widget-item > div.table.matches > div.table-rows > div:nth-child(1) > div:nth-child(4) > div > div:nth-child(3)\").click()\n",
    "dia = driver.find_elements_by_xpath(\"/html/body/div[8]/div[1]/div[3]/div[2]/div[2]/div[1]/div[4]/div/div[1]/div[2]/div[1]\")[0].text\n",
    "                                    #/html/body/div[8]/div[1]/div[3]/div[2]/div[2]/div[2]/div[4]/div/div[1]/div[2]/div[1]\n",
    "hora = driver.find_elements_by_xpath(\"/html/body/div[8]/div[1]/div[3]/div[2]/div[2]/div[1]/div[4]/div/div[1]/div[2]/div[2]\")[0].text\n",
    "                                    #/html/body/div[8]/div[1]/div[3]/div[2]/div[2]/div[2]/div[4]/div/div[1]/div[2]/div[2]\n",
    "lugar = driver.find_elements_by_xpath(\"/html/body/div[8]/div[1]/div[3]/div[2]/div[2]/div[1]/div[4]/div/div[1]/div[2]/div[3]\")[0].text\n",
    "                                    #/html/body/div[8]/div[1]/div[3]/div[2]/div[2]/div[2]/div[4]/div/div[1]/div[2]/div[3]\n",
    "#driver.find_elements_by_xpath(\"/html/body/div[8]/div[1]/div[3]/div[2]/div[2]/div[1]/div[4]/div/div[1]/div[2]\").click()\n",
    "#info = driver.find_elements_by_xpath(\"/html/body/div[8]/div[1]/div[3]/div[2]/div[2]/div[1]/div[4]/div/div[1]/div[2]\")\n",
    "#info = driver.find_elements_by_xpath(\"/html/body/div[8]/div[1]/div[3]/div[2]/div[2]/div[1]/div[4]/div/div[1]\")\n",
    "#info = driver.find_elements_by_xpath(\"/html/body/div[8]/div[1]/div[3]/div[2]/div[2]/div[1]/div[4]/div/div[1]/div[1]/svg\")\n",
    "#info = driver.find_elements_by_xpath(\"/html/body/div[8]/div[1]/div[3]/div[2]/div[2]/div[1]/div[4]/div/div[1]/div[1]/svg/use\")\n",
    "#los cuatro xpath devuelven la lista vacía\n",
    "\n",
    "\n",
    "#info_text = [i.text for i in info]\n"
   ]
  },
  {
   "cell_type": "code",
   "execution_count": 9,
   "id": "b6946b54",
   "metadata": {},
   "outputs": [
    {
     "data": {
      "text/plain": [
       "'Fecha: 27-11-2021'"
      ]
     },
     "execution_count": 9,
     "metadata": {},
     "output_type": "execute_result"
    }
   ],
   "source": [
    "dia"
   ]
  },
  {
   "cell_type": "code",
   "execution_count": 10,
   "id": "b84b7989",
   "metadata": {},
   "outputs": [
    {
     "data": {
      "text/plain": [
       "'Hora: 16:00'"
      ]
     },
     "execution_count": 10,
     "metadata": {},
     "output_type": "execute_result"
    }
   ],
   "source": [
    "hora"
   ]
  },
  {
   "cell_type": "code",
   "execution_count": 11,
   "id": "ba633ed4",
   "metadata": {},
   "outputs": [
    {
     "data": {
      "text/plain": [
       "'Lugar: LEGANÉS - CIUDAD DEPORTIVA (HB)'"
      ]
     },
     "execution_count": 11,
     "metadata": {},
     "output_type": "execute_result"
    }
   ],
   "source": [
    "lugar"
   ]
  },
  {
   "cell_type": "code",
   "execution_count": 56,
   "id": "561f43d9",
   "metadata": {},
   "outputs": [
    {
     "name": "stderr",
     "output_type": "stream",
     "text": [
      "<ipython-input-56-68b8a8433112>:8: DeprecationWarning: executable_path has been deprecated, please pass in a Service object\n",
      "  driver = webdriver.Chrome(driver, options = opciones)\n",
      "<ipython-input-56-68b8a8433112>:11: DeprecationWarning: find_element_by_* commands are deprecated. Please use find_element() instead\n",
      "  driver.find_element_by_css_selector(\"#qc-cmp2-ui > div.qc-cmp2-footer.qc-cmp2-footer-overlay.qc-cmp2-footer-scrolled > div > button.css-1t142sv\").click()\n",
      "<ipython-input-56-68b8a8433112>:12: DeprecationWarning: find_element_by_* commands are deprecated. Please use find_element() instead\n",
      "  driver.find_element_by_css_selector(\"#competition\").click()\n",
      "<ipython-input-56-68b8a8433112>:13: DeprecationWarning: find_element_by_* commands are deprecated. Please use find_element() instead\n",
      "  driver.find_element_by_css_selector(\"#competition > optgroup:nth-child(4) > option:nth-child(1)\").click()\n",
      "<ipython-input-56-68b8a8433112>:14: DeprecationWarning: find_element_by_* commands are deprecated. Please use find_element() instead\n",
      "  driver.find_element_by_css_selector(\"#group\").click()\n",
      "<ipython-input-56-68b8a8433112>:15: DeprecationWarning: find_element_by_* commands are deprecated. Please use find_element() instead\n",
      "  driver.find_element_by_css_selector(\"#group > option:nth-child(2)\").click()\n",
      "<ipython-input-56-68b8a8433112>:16: DeprecationWarning: find_element_by_* commands are deprecated. Please use find_element() instead\n",
      "  driver.find_element_by_css_selector(\"#search_btn_results\").click()\n",
      "<ipython-input-56-68b8a8433112>:18: DeprecationWarning: find_element_by_* commands are deprecated. Please use find_element() instead\n",
      "  driver.find_element_by_css_selector(f\"body > div.layout-content-1.layout-item-3-1.grid-limit > div.layout-body > div.widget-item > div.table.matches > div.table-rows > div:nth-child({i}) > div:nth-child(4) > div > div:nth-child(3)\").click()\n",
      "<ipython-input-56-68b8a8433112>:20: DeprecationWarning: find_elements_by_* commands are deprecated. Please use find_elements() instead\n",
      "  dia.append(driver.find_elements_by_xpath(f\"/html/body/div[8]/div[1]/div[3]/div[2]/div[2]/div[{i}]/div[4]/div/div[1]/div[2]/div[1]\")[0].text)\n",
      "<ipython-input-56-68b8a8433112>:22: DeprecationWarning: find_elements_by_* commands are deprecated. Please use find_elements() instead\n",
      "  hora.append(driver.find_elements_by_xpath(f\"/html/body/div[8]/div[1]/div[3]/div[2]/div[2]/div[{i}]/div[4]/div/div[1]/div[2]/div[2]\")[0].text)\n",
      "<ipython-input-56-68b8a8433112>:24: DeprecationWarning: find_elements_by_* commands are deprecated. Please use find_elements() instead\n",
      "  lugar.append(driver.find_elements_by_xpath(f\"/html/body/div[8]/div[1]/div[3]/div[2]/div[2]/div[{i}]/div[4]/div/div[1]/div[2]/div[3]\")[0].text)\n",
      "<ipython-input-56-68b8a8433112>:25: DeprecationWarning: find_element_by_* commands are deprecated. Please use find_element() instead\n",
      "  driver.find_element_by_css_selector(f\"body > div.layout-content-1.layout-item-3-1.grid-limit > div.layout-body > div.widget-item > div.table.matches > div.table-rows > div:nth-child({i}) > div:nth-child(4) > div > div:nth-child(3)\").click()\n",
      "<ipython-input-56-68b8a8433112>:26: DeprecationWarning: find_elements_by_* commands are deprecated. Please use find_elements() instead\n",
      "  equipo1.append(driver.find_elements_by_xpath(f\"/html/body/div[8]/div[1]/div[3]/div[2]/div[2]/div[{i}]/div[1]/div/div/p/a\")[0].text)\n",
      "<ipython-input-56-68b8a8433112>:27: DeprecationWarning: find_elements_by_* commands are deprecated. Please use find_elements() instead\n",
      "  equipo2.append(driver.find_elements_by_xpath(f\"/html/body/div[8]/div[1]/div[3]/div[2]/div[2]/div[{i}]/div[3]/div/div/p/a\")[0].text)\n",
      "<ipython-input-56-68b8a8433112>:30: DeprecationWarning: find_element_by_* commands are deprecated. Please use find_element() instead\n",
      "  driver.find_element_by_css_selector(f\"body > div.layout-content-1.layout-item-3-1.grid-limit > div.layout-body > div.widget-item > div.table.matches > div.table-rows > div:nth-child({i}) > div:nth-child(4) > div > div:nth-child(4)\").click()\n",
      "<ipython-input-56-68b8a8433112>:31: DeprecationWarning: find_elements_by_* commands are deprecated. Please use find_elements() instead\n",
      "  arbitro.append(driver.find_elements_by_xpath(f\"/html/body/div[8]/div[1]/div[3]/div[2]/div[2]/div[1]/div[4]/div/div[2]/div[2]\")[0].text)\n",
      "<ipython-input-56-68b8a8433112>:32: DeprecationWarning: find_element_by_* commands are deprecated. Please use find_element() instead\n",
      "  driver.find_element_by_css_selector(f\"body > div.layout-content-1.layout-item-3-1.grid-limit > div.layout-body > div.widget-item > div.table.matches > div.table-rows > div:nth-child({i}) > div:nth-child(4) > div > div:nth-child(4)\").click()\n"
     ]
    }
   ],
   "source": [
    "dia = []\n",
    "hora = []\n",
    "lugar = []\n",
    "equipo1 = []\n",
    "equipo2 = []\n",
    "arbitro = []\n",
    "driver = \"./chromedriver.exe\"\n",
    "driver = webdriver.Chrome(driver, options = opciones)\n",
    "driver.get(\"https://www.rffm.es/competiciones/resultados\")\n",
    "#driver.implicitly_wait(3) # is like a time.sleep but specific of selenium\n",
    "driver.find_element_by_css_selector(\"#qc-cmp2-ui > div.qc-cmp2-footer.qc-cmp2-footer-overlay.qc-cmp2-footer-scrolled > div > button.css-1t142sv\").click()\n",
    "driver.find_element_by_css_selector(\"#competition\").click()\n",
    "driver.find_element_by_css_selector(\"#competition > optgroup:nth-child(4) > option:nth-child(1)\").click()\n",
    "driver.find_element_by_css_selector(\"#group\").click()\n",
    "driver.find_element_by_css_selector(\"#group > option:nth-child(2)\").click()\n",
    "driver.find_element_by_css_selector(\"#search_btn_results\").click()\n",
    "for i in range(1,10):\n",
    "    driver.find_element_by_css_selector(f\"body > div.layout-content-1.layout-item-3-1.grid-limit > div.layout-body > div.widget-item > div.table.matches > div.table-rows > div:nth-child({i}) > div:nth-child(4) > div > div:nth-child(3)\").click()\n",
    "                                    #body > div.layout-content-1.layout-item-3-1.grid-limit > div.layout-body > div.widget-item > div.table.matches > div.table-rows > div:nth-child(2) > div:nth-child(4) > div > div:nth-child(3) > div.info-de-tabla-trigger\n",
    "    dia.append(driver.find_elements_by_xpath(f\"/html/body/div[8]/div[1]/div[3]/div[2]/div[2]/div[{i}]/div[4]/div/div[1]/div[2]/div[1]\")[0].text)\n",
    "                                    #/html/body/div[8]/div[1]/div[3]/div[2]/div[2]/div[2]/div[4]/div/div[1]/div[2]/div[1]\n",
    "    hora.append(driver.find_elements_by_xpath(f\"/html/body/div[8]/div[1]/div[3]/div[2]/div[2]/div[{i}]/div[4]/div/div[1]/div[2]/div[2]\")[0].text)\n",
    "                                    #/html/body/div[8]/div[1]/div[3]/div[2]/div[2]/div[2]/div[4]/div/div[1]/div[2]/div[2]\n",
    "    lugar.append(driver.find_elements_by_xpath(f\"/html/body/div[8]/div[1]/div[3]/div[2]/div[2]/div[{i}]/div[4]/div/div[1]/div[2]/div[3]\")[0].text)\n",
    "    driver.find_element_by_css_selector(f\"body > div.layout-content-1.layout-item-3-1.grid-limit > div.layout-body > div.widget-item > div.table.matches > div.table-rows > div:nth-child({i}) > div:nth-child(4) > div > div:nth-child(3)\").click()\n",
    "    equipo1.append(driver.find_elements_by_xpath(f\"/html/body/div[8]/div[1]/div[3]/div[2]/div[2]/div[{i}]/div[1]/div/div/p/a\")[0].text)                                                   \n",
    "    equipo2.append(driver.find_elements_by_xpath(f\"/html/body/div[8]/div[1]/div[3]/div[2]/div[2]/div[{i}]/div[3]/div/div/p/a\")[0].text)\n",
    "                                                    \n",
    "    #árbitro\n",
    "    driver.find_element_by_css_selector(f\"body > div.layout-content-1.layout-item-3-1.grid-limit > div.layout-body > div.widget-item > div.table.matches > div.table-rows > div:nth-child({i}) > div:nth-child(4) > div > div:nth-child(4)\").click()\n",
    "    arbitro.append(driver.find_elements_by_xpath(f\"/html/body/div[8]/div[1]/div[3]/div[2]/div[2]/div[1]/div[4]/div/div[2]/div[2]\")[0].text)\n",
    "    driver.find_element_by_css_selector(f\"body > div.layout-content-1.layout-item-3-1.grid-limit > div.layout-body > div.widget-item > div.table.matches > div.table-rows > div:nth-child({i}) > div:nth-child(4) > div > div:nth-child(4)\").click()"
   ]
  },
  {
   "cell_type": "code",
   "execution_count": 51,
   "id": "8da4c63f",
   "metadata": {},
   "outputs": [
    {
     "data": {
      "text/plain": [
       "['Fecha: 27-11-2021',\n",
       " 'Fecha: 27-11-2021',\n",
       " 'Fecha: 27-11-2021',\n",
       " 'Fecha: 28-11-2021',\n",
       " 'Fecha: 28-11-2021',\n",
       " 'Fecha: 28-11-2021',\n",
       " 'Fecha: 28-11-2021',\n",
       " 'Fecha: 28-11-2021',\n",
       " 'Fecha: 28-11-2021']"
      ]
     },
     "execution_count": 51,
     "metadata": {},
     "output_type": "execute_result"
    }
   ],
   "source": [
    "dia"
   ]
  },
  {
   "cell_type": "code",
   "execution_count": 52,
   "id": "68887206",
   "metadata": {},
   "outputs": [
    {
     "data": {
      "text/plain": [
       "['Hora: 16:00',\n",
       " 'Hora: 16:30',\n",
       " 'Hora: 16:30',\n",
       " 'Hora: 17:30',\n",
       " '',\n",
       " '',\n",
       " '',\n",
       " '',\n",
       " 'Hora: 16:00']"
      ]
     },
     "execution_count": 52,
     "metadata": {},
     "output_type": "execute_result"
    }
   ],
   "source": [
    "hora"
   ]
  },
  {
   "cell_type": "code",
   "execution_count": 53,
   "id": "f020d467",
   "metadata": {},
   "outputs": [
    {
     "data": {
      "text/plain": [
       "['Lugar: LEGANÉS - CIUDAD DEPORTIVA (HB)',\n",
       " 'Lugar: VEREDA GANAPANES 2 (HA)',\n",
       " 'Lugar: LAS ROZAS - PVO. DEHESA DE NAVALCARBÓN 1 (HA)',\n",
       " 'Lugar: CIUDAD REAL MADRID 2 (HA)',\n",
       " '',\n",
       " '',\n",
       " '',\n",
       " '',\n",
       " 'Lugar: ALCORCÓN - PVO. MPAL. SANTO DOMINGO (HA)']"
      ]
     },
     "execution_count": 53,
     "metadata": {},
     "output_type": "execute_result"
    }
   ],
   "source": [
    "lugar"
   ]
  },
  {
   "cell_type": "code",
   "execution_count": 48,
   "id": "94299e20",
   "metadata": {},
   "outputs": [
    {
     "data": {
      "text/plain": [
       "['C.D. LEGANES S.A.D. A',\n",
       " 'A.D. UNION ADARVE A',\n",
       " 'LAS ROZAS C.F. A',\n",
       " 'REAL MADRID C.F. A',\n",
       " 'C. PVO. FLECHA NEGRA',\n",
       " 'U.D. LA CRUZ VILLANOVENSE',\n",
       " 'BURGOS C.F.',\n",
       " 'C. Y D. LEONESA S.A.D.',\n",
       " 'A.D. ALCORCON S.A.D. A']"
      ]
     },
     "execution_count": 48,
     "metadata": {},
     "output_type": "execute_result"
    }
   ],
   "source": [
    "equipo1"
   ]
  },
  {
   "cell_type": "code",
   "execution_count": 49,
   "id": "31617845",
   "metadata": {},
   "outputs": [
    {
     "data": {
      "text/plain": [
       "['C.F. TRIVAL VALDERAS ALCORCON A',\n",
       " 'C.F. FUENLABRADA S.A.D. A',\n",
       " 'C.F. RAYO MAJADAHONDA A',\n",
       " 'REAL VALLADOLID C.F. S.A.D.',\n",
       " 'Gª SEGOVIANA C.F.',\n",
       " 'C.D. BADAJOZ 1905',\n",
       " 'RAYO VALLECANO DE MADRID A',\n",
       " 'GETAFE C.F. S.A.D. A',\n",
       " 'CLUB ATLETICO DE MADRID A']"
      ]
     },
     "execution_count": 49,
     "metadata": {},
     "output_type": "execute_result"
    }
   ],
   "source": [
    "equipo2"
   ]
  },
  {
   "cell_type": "code",
   "execution_count": 57,
   "id": "d3b525c7",
   "metadata": {},
   "outputs": [
    {
     "data": {
      "text/plain": [
       "['ARBITRAJE', '', '', '', '', '', '', '', '']"
      ]
     },
     "execution_count": 57,
     "metadata": {},
     "output_type": "execute_result"
    }
   ],
   "source": [
    "arbitro"
   ]
  },
  {
   "cell_type": "code",
   "execution_count": 54,
   "id": "e46f0692",
   "metadata": {},
   "outputs": [
    {
     "data": {
      "text/html": [
       "<div>\n",
       "<style scoped>\n",
       "    .dataframe tbody tr th:only-of-type {\n",
       "        vertical-align: middle;\n",
       "    }\n",
       "\n",
       "    .dataframe tbody tr th {\n",
       "        vertical-align: top;\n",
       "    }\n",
       "\n",
       "    .dataframe thead th {\n",
       "        text-align: right;\n",
       "    }\n",
       "</style>\n",
       "<table border=\"1\" class=\"dataframe\">\n",
       "  <thead>\n",
       "    <tr style=\"text-align: right;\">\n",
       "      <th></th>\n",
       "      <th>Estadio</th>\n",
       "      <th>Dia</th>\n",
       "      <th>Hora</th>\n",
       "      <th>Equipo Local</th>\n",
       "      <th>Equipo Visitante</th>\n",
       "    </tr>\n",
       "  </thead>\n",
       "  <tbody>\n",
       "    <tr>\n",
       "      <th>0</th>\n",
       "      <td>Lugar: LEGANÉS - CIUDAD DEPORTIVA (HB)</td>\n",
       "      <td>Fecha: 27-11-2021</td>\n",
       "      <td>Hora: 16:00</td>\n",
       "      <td>C.D. LEGANES S.A.D. A</td>\n",
       "      <td>C.F. TRIVAL VALDERAS ALCORCON A</td>\n",
       "    </tr>\n",
       "    <tr>\n",
       "      <th>1</th>\n",
       "      <td>Lugar: VEREDA GANAPANES 2 (HA)</td>\n",
       "      <td>Fecha: 27-11-2021</td>\n",
       "      <td>Hora: 16:30</td>\n",
       "      <td>A.D. UNION ADARVE A</td>\n",
       "      <td>C.F. FUENLABRADA S.A.D. A</td>\n",
       "    </tr>\n",
       "    <tr>\n",
       "      <th>2</th>\n",
       "      <td>Lugar: LAS ROZAS - PVO. DEHESA DE NAVALCARBÓN ...</td>\n",
       "      <td>Fecha: 27-11-2021</td>\n",
       "      <td>Hora: 16:30</td>\n",
       "      <td>LAS ROZAS C.F. A</td>\n",
       "      <td>C.F. RAYO MAJADAHONDA A</td>\n",
       "    </tr>\n",
       "    <tr>\n",
       "      <th>3</th>\n",
       "      <td>Lugar: CIUDAD REAL MADRID 2 (HA)</td>\n",
       "      <td>Fecha: 28-11-2021</td>\n",
       "      <td>Hora: 17:30</td>\n",
       "      <td>REAL MADRID C.F. A</td>\n",
       "      <td>REAL VALLADOLID C.F. S.A.D.</td>\n",
       "    </tr>\n",
       "    <tr>\n",
       "      <th>4</th>\n",
       "      <td></td>\n",
       "      <td>Fecha: 28-11-2021</td>\n",
       "      <td></td>\n",
       "      <td>C. PVO. FLECHA NEGRA</td>\n",
       "      <td>Gª SEGOVIANA C.F.</td>\n",
       "    </tr>\n",
       "    <tr>\n",
       "      <th>5</th>\n",
       "      <td></td>\n",
       "      <td>Fecha: 28-11-2021</td>\n",
       "      <td></td>\n",
       "      <td>U.D. LA CRUZ VILLANOVENSE</td>\n",
       "      <td>C.D. BADAJOZ 1905</td>\n",
       "    </tr>\n",
       "    <tr>\n",
       "      <th>6</th>\n",
       "      <td></td>\n",
       "      <td>Fecha: 28-11-2021</td>\n",
       "      <td></td>\n",
       "      <td>BURGOS C.F.</td>\n",
       "      <td>RAYO VALLECANO DE MADRID A</td>\n",
       "    </tr>\n",
       "    <tr>\n",
       "      <th>7</th>\n",
       "      <td></td>\n",
       "      <td>Fecha: 28-11-2021</td>\n",
       "      <td></td>\n",
       "      <td>C. Y D. LEONESA S.A.D.</td>\n",
       "      <td>GETAFE C.F. S.A.D. A</td>\n",
       "    </tr>\n",
       "    <tr>\n",
       "      <th>8</th>\n",
       "      <td>Lugar: ALCORCÓN - PVO. MPAL. SANTO DOMINGO (HA)</td>\n",
       "      <td>Fecha: 28-11-2021</td>\n",
       "      <td>Hora: 16:00</td>\n",
       "      <td>A.D. ALCORCON S.A.D. A</td>\n",
       "      <td>CLUB ATLETICO DE MADRID A</td>\n",
       "    </tr>\n",
       "  </tbody>\n",
       "</table>\n",
       "</div>"
      ],
      "text/plain": [
       "                                             Estadio                Dia  \\\n",
       "0             Lugar: LEGANÉS - CIUDAD DEPORTIVA (HB)  Fecha: 27-11-2021   \n",
       "1                     Lugar: VEREDA GANAPANES 2 (HA)  Fecha: 27-11-2021   \n",
       "2  Lugar: LAS ROZAS - PVO. DEHESA DE NAVALCARBÓN ...  Fecha: 27-11-2021   \n",
       "3                   Lugar: CIUDAD REAL MADRID 2 (HA)  Fecha: 28-11-2021   \n",
       "4                                                     Fecha: 28-11-2021   \n",
       "5                                                     Fecha: 28-11-2021   \n",
       "6                                                     Fecha: 28-11-2021   \n",
       "7                                                     Fecha: 28-11-2021   \n",
       "8    Lugar: ALCORCÓN - PVO. MPAL. SANTO DOMINGO (HA)  Fecha: 28-11-2021   \n",
       "\n",
       "          Hora               Equipo Local                 Equipo Visitante  \n",
       "0  Hora: 16:00      C.D. LEGANES S.A.D. A  C.F. TRIVAL VALDERAS ALCORCON A  \n",
       "1  Hora: 16:30        A.D. UNION ADARVE A        C.F. FUENLABRADA S.A.D. A  \n",
       "2  Hora: 16:30           LAS ROZAS C.F. A          C.F. RAYO MAJADAHONDA A  \n",
       "3  Hora: 17:30         REAL MADRID C.F. A      REAL VALLADOLID C.F. S.A.D.  \n",
       "4                    C. PVO. FLECHA NEGRA                Gª SEGOVIANA C.F.  \n",
       "5               U.D. LA CRUZ VILLANOVENSE                C.D. BADAJOZ 1905  \n",
       "6                             BURGOS C.F.       RAYO VALLECANO DE MADRID A  \n",
       "7                  C. Y D. LEONESA S.A.D.             GETAFE C.F. S.A.D. A  \n",
       "8  Hora: 16:00     A.D. ALCORCON S.A.D. A        CLUB ATLETICO DE MADRID A  "
      ]
     },
     "execution_count": 54,
     "metadata": {},
     "output_type": "execute_result"
    }
   ],
   "source": [
    "df = pd.DataFrame(list(zip(lugar,dia,hora,equipo1,equipo2)), columns = ['Estadio','Dia',\"Hora\",\"Equipo Local\",\"Equipo Visitante\"])\n",
    "df"
   ]
  },
  {
   "cell_type": "code",
   "execution_count": null,
   "id": "fc0e7282",
   "metadata": {},
   "outputs": [],
   "source": [
    "body > div.layout-content-1.layout-item-3-1.grid-limit > div.layout-body > div.widget-item > div.table.matches > div.table-rows > div:nth-child(8) > div:nth-child(2) > div > p.match-time.medium\n",
    "        body > div.layout-content-1.layout-item-3-1.grid-limit > div.layout-body > div.widget-item > div.table.matches > div.table-rows > div:nth-child(9) > div:nth-child(2) > div > p.match-time.medium"
   ]
  },
  {
   "cell_type": "code",
   "execution_count": null,
   "id": "6d64245d",
   "metadata": {},
   "outputs": [],
   "source": [
    "selector_fecha = body > div.layout-content-1.layout-item-3-1.grid-limit > div.layout-body > div.widget-item > div.table.matches > div.table-rows > div:nth-child(1) > div:nth-child(4) > div > div:nth-child(3) > div.info-de-tabla > div:nth-child(2)\n",
    "selector_hora = body > div.layout-content-1.layout-item-3-1.grid-limit > div.layout-body > div.widget-item > div.table.matches > div.table-rows > div:nth-child(1) > div:nth-child(4) > div > div:nth-child(3) > div.info-de-tabla > div:nth-child(3)\n",
    "selector_lugar = body > div.layout-content-1.layout-item-3-1.grid-limit > div.layout-body > div.widget-item > div.table.matches > div.table-rows > div:nth-child(1) > div:nth-child(4) > div > div:nth-child(3) > div.info-de-tabla > div:nth-child(3)"
   ]
  },
  {
   "cell_type": "code",
   "execution_count": null,
   "id": "a56f4fc6",
   "metadata": {},
   "outputs": [],
   "source": [
    "precio = []\n",
    "producto = []\n",
    "descripcion = []\n",
    "\n",
    "for i in range(1,10):\n",
    "    try: \n",
    "        precio.append(driver.find_element_by_css_selector(f\"#body > div.layout-content-1.layout-item-3-1.grid-limit > div.layout-body > div.widget-item > div.table.matches > div.table-rows > div:nth-child(1) > div:nth-child(4) > div > div:nth-child(3) > div.info-de-tabla > div:nth-child(2)\").text)\n",
    "        producto.append(driver.find_element_by_css_selector(f\"#body > div.layout-content-1.layout-item-3-1.grid-limit > div.layout-body > div.widget-item > div.table.matches > div.table-rows > div:nth-child(1) > div:nth-child(4) > div > div:nth-child(3) > div.info-de-tabla > div:nth-child(3)\").text)\n",
    "        descripcion.append(driver.find_element_by_css_selector(f\"#body > div.layout-content-1.layout-item-3-1.grid-limit > div.layout-body > div.widget-item > div.table.matches > div.table-rows > div:nth-child(1) > div:nth-child(4) > div > div:nth-child(3) > div.info-de-tabla > div:nth-child(4)\").text)"
   ]
  }
 ],
 "metadata": {
  "kernelspec": {
   "display_name": "Python 3",
   "language": "python",
   "name": "python3"
  },
  "language_info": {
   "codemirror_mode": {
    "name": "ipython",
    "version": 3
   },
   "file_extension": ".py",
   "mimetype": "text/x-python",
   "name": "python",
   "nbconvert_exporter": "python",
   "pygments_lexer": "ipython3",
   "version": "3.8.8"
  }
 },
 "nbformat": 4,
 "nbformat_minor": 5
}
